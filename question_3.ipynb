{
 "cells": [
  {
   "cell_type": "markdown",
   "metadata": {},
   "source": [
    "Question 3: What is the five Education Types more common?  "
   ]
  },
  {
   "cell_type": "code",
   "execution_count": 1,
   "metadata": {},
   "outputs": [],
   "source": [
    "# imports \n",
    "import pandas as pd\n",
    "import matplotlib.pyplot as plt"
   ]
  },
  {
   "cell_type": "code",
   "execution_count": 2,
   "metadata": {},
   "outputs": [],
   "source": [
    "# Reading the file\n",
    "df_public = pd.read_csv('survey_results_public.csv')"
   ]
  },
  {
   "cell_type": "code",
   "execution_count": 113,
   "metadata": {},
   "outputs": [
    {
     "data": {
      "text/html": [
       "<div>\n",
       "<style scoped>\n",
       "    .dataframe tbody tr th:only-of-type {\n",
       "        vertical-align: middle;\n",
       "    }\n",
       "\n",
       "    .dataframe tbody tr th {\n",
       "        vertical-align: top;\n",
       "    }\n",
       "\n",
       "    .dataframe thead th {\n",
       "        text-align: right;\n",
       "    }\n",
       "</style>\n",
       "<table border=\"1\" class=\"dataframe\">\n",
       "  <thead>\n",
       "    <tr style=\"text-align: right;\">\n",
       "      <th></th>\n",
       "      <th></th>\n",
       "    </tr>\n",
       "  </thead>\n",
       "  <tbody>\n",
       "    <tr>\n",
       "      <th>Online course</th>\n",
       "      <td>5047</td>\n",
       "    </tr>\n",
       "    <tr>\n",
       "      <th>Open source contributions</th>\n",
       "      <td>4465</td>\n",
       "    </tr>\n",
       "    <tr>\n",
       "      <th>Self-taught</th>\n",
       "      <td>10403</td>\n",
       "    </tr>\n",
       "    <tr>\n",
       "      <th>Hackathon</th>\n",
       "      <td>2728</td>\n",
       "    </tr>\n",
       "    <tr>\n",
       "      <th>Coding competition</th>\n",
       "      <td>2428</td>\n",
       "    </tr>\n",
       "    <tr>\n",
       "      <th>Part-time/evening course</th>\n",
       "      <td>1579</td>\n",
       "    </tr>\n",
       "    <tr>\n",
       "      <th>On-the-job training</th>\n",
       "      <td>4695</td>\n",
       "    </tr>\n",
       "    <tr>\n",
       "      <th>Bootcamp</th>\n",
       "      <td>919</td>\n",
       "    </tr>\n",
       "    <tr>\n",
       "      <th>Industry certification</th>\n",
       "      <td>1686</td>\n",
       "    </tr>\n",
       "  </tbody>\n",
       "</table>\n",
       "</div>"
      ],
      "text/plain": [
       "                                \n",
       "Online course               5047\n",
       "Open source contributions   4465\n",
       "Self-taught                10403\n",
       "Hackathon                   2728\n",
       "Coding competition          2428\n",
       "Part-time/evening course    1579\n",
       "On-the-job training         4695\n",
       "Bootcamp                     919\n",
       "Industry certification      1686"
      ]
     },
     "execution_count": 113,
     "metadata": {},
     "output_type": "execute_result"
    }
   ],
   "source": [
    "# To get just the EducationTypes\n",
    "new_df = df_public[['EducationTypes']].dropna(axis=0, how='any')\n",
    "# To save the EducationTypes  \n",
    "education_types_dict = {}\n",
    "\n",
    "for index, row in new_df.iterrows():\n",
    "    # line is now a list of each EducationTypes\n",
    "    line = row['EducationTypes'].split(';')\n",
    "    \n",
    "    for item in line:\n",
    "        # To make all keys standardized\n",
    "        item = item.strip().capitalize()\n",
    "        # If the item already exist. So we'll sum the count\n",
    "        if item in education_types_dict:\n",
    "            education_types_dict[item] += 1 \n",
    "        # Else, we'll start with count 1\n",
    "        else:\n",
    "            education_types_dict[item] = 1\n",
    "\n",
    "# Creating the DataFrame\n",
    "# Note: The column name is \"\" because in graphic (pie) was with the column name \n",
    "# Column value is all the dict values that was built above \n",
    "# Index value is all the dict keys was built above \n",
    "df_education_types = pd.DataFrame({'': list(education_types_dict.values())}, index=list(education_types_dict.keys()))\n",
    "df_education_types\n"
   ]
  },
  {
   "cell_type": "code",
   "execution_count": 114,
   "metadata": {},
   "outputs": [
    {
     "data": {
      "text/html": [
       "<div>\n",
       "<style scoped>\n",
       "    .dataframe tbody tr th:only-of-type {\n",
       "        vertical-align: middle;\n",
       "    }\n",
       "\n",
       "    .dataframe tbody tr th {\n",
       "        vertical-align: top;\n",
       "    }\n",
       "\n",
       "    .dataframe thead th {\n",
       "        text-align: right;\n",
       "    }\n",
       "</style>\n",
       "<table border=\"1\" class=\"dataframe\">\n",
       "  <thead>\n",
       "    <tr style=\"text-align: right;\">\n",
       "      <th></th>\n",
       "      <th></th>\n",
       "    </tr>\n",
       "  </thead>\n",
       "  <tbody>\n",
       "    <tr>\n",
       "      <th>Self-taught</th>\n",
       "      <td>10403</td>\n",
       "    </tr>\n",
       "    <tr>\n",
       "      <th>Online course</th>\n",
       "      <td>5047</td>\n",
       "    </tr>\n",
       "    <tr>\n",
       "      <th>On-the-job training</th>\n",
       "      <td>4695</td>\n",
       "    </tr>\n",
       "    <tr>\n",
       "      <th>Open source contributions</th>\n",
       "      <td>4465</td>\n",
       "    </tr>\n",
       "    <tr>\n",
       "      <th>Hackathon</th>\n",
       "      <td>2728</td>\n",
       "    </tr>\n",
       "  </tbody>\n",
       "</table>\n",
       "</div>"
      ],
      "text/plain": [
       "                                \n",
       "Self-taught                10403\n",
       "Online course               5047\n",
       "On-the-job training         4695\n",
       "Open source contributions   4465\n",
       "Hackathon                   2728"
      ]
     },
     "execution_count": 114,
     "metadata": {},
     "output_type": "execute_result"
    }
   ],
   "source": [
    "# Shorting the top five to build the graphic\n",
    "final_df = df_education_types.sort_values(by='', ascending=False).head()\n",
    "final_df\n"
   ]
  },
  {
   "cell_type": "code",
   "execution_count": 116,
   "metadata": {},
   "outputs": [
    {
     "data": {
      "text/plain": [
       "array([<AxesSubplot:>], dtype=object)"
      ]
     },
     "execution_count": 116,
     "metadata": {},
     "output_type": "execute_result"
    },
    {
     "data": {
      "image/png": "[encoded data removed]",
      "text/plain": [
       "<Figure size 640x480 with 1 Axes>"
      ]
     },
     "metadata": {},
     "output_type": "display_data"
    }
   ],
   "source": [
    "final_df.plot(kind='pie', subplots=True, legend=None, title='Five way that is more common to learn')"
   ]
  }
 ],
 "metadata": {
  "kernelspec": {
   "display_name": "Python 3.10.2 64-bit",
   "language": "python",
   "name": "python3"
  },
  "language_info": {
   "codemirror_mode": {
    "name": "ipython",
    "version": 3
   },
   "file_extension": ".py",
   "mimetype": "text/x-python",
   "name": "python",
   "nbconvert_exporter": "python",
   "pygments_lexer": "ipython3",
   "version": "3.10.2"
  },
  "orig_nbformat": 4,
  "vscode": {
   "interpreter": {
    "hash": "319b3f630a606b1f5af19ab16bdc536d33ea46259f24a7c38856b2f7157e6f89"
   }
  }
 },
 "nbformat": 4,
 "nbformat_minor": 2
}
